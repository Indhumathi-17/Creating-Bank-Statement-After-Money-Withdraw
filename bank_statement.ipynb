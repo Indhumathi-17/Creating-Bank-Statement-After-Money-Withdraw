{
  "nbformat": 4,
  "nbformat_minor": 0,
  "metadata": {
    "colab": {
      "provenance": []
    },
    "kernelspec": {
      "name": "python3",
      "display_name": "Python 3"
    },
    "language_info": {
      "name": "python"
    }
  },
  "cells": [
    {
      "cell_type": "code",
      "execution_count": null,
      "metadata": {
        "colab": {
          "base_uri": "https://localhost:8080/"
        },
        "id": "EOKWGnr9P-Cl",
        "outputId": "3c8adf33-807f-4e0d-fec5-602e1cb6b159"
      },
      "outputs": [
        {
          "output_type": "stream",
          "name": "stdout",
          "text": [
            "2023-01-26 18:57:28.763892+05:30\n"
          ]
        }
      ],
      "source": [
        "#to get current time of money transaction\n",
        "from datetime import datetime\n",
        "import pytz\n",
        "IST = pytz.timezone('Asia/kolkata')\n",
        "Time = datetime.now(IST)\n",
        "print (Time)"
      ]
    },
    {
      "cell_type": "code",
      "source": [],
      "metadata": {
        "id": "DMVraRyHVCLF"
      },
      "execution_count": null,
      "outputs": []
    },
    {
      "cell_type": "code",
      "source": [
        "#to get bank statement after withdraw money including the transaction, amount, and time\n",
        "Name = input ('Mr/Mrs ')\n",
        "Bank_name = input ('Enter your Bank Name ')\n",
        "Total_amount = int(input('Current Balance '))\n",
        "Amount = int(input('Amount you want to withdraw '))\n",
        "Balance_amount = Total_amount - Amount\n",
        "Statement = 'Hi, Mr/Mrs {}, you withdraw {} amount from your {} bank account at {}, your current balance is {}'\n",
        "print(Statement.format(Name,Amount,Bank_name,Time,Balance_amount))"
      ],
      "metadata": {
        "colab": {
          "base_uri": "https://localhost:8080/"
        },
        "id": "2WwIxiOYQs6e",
        "outputId": "c765b02d-9b44-44e7-a740-37c656886d24"
      },
      "execution_count": null,
      "outputs": [
        {
          "output_type": "stream",
          "name": "stdout",
          "text": [
            "Mr/Mrs Indhu\n",
            "Enter your Bank Name ABC\n",
            "Current Balance 34600\n",
            "Amount you want to withdraw 23000\n",
            "Hi, Mr/Mrs Indhu, you withdraw 23000 amount from your ABC bank account at 2023-01-26 18:57:28.763892+05:30, your current balance is 11600\n"
          ]
        }
      ]
    }
  ]
}
